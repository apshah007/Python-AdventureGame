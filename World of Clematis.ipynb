{
 "cells": [
  {
   "cell_type": "code",
   "execution_count": 1,
   "metadata": {},
   "outputs": [
    {
     "name": "stdout",
     "output_type": "stream",
     "text": [
      "Welcome to the World of Clematis\n"
     ]
    }
   ],
   "source": [
    "print(\"Welcome to the World of Clematis\")"
   ]
  },
  {
   "cell_type": "code",
   "execution_count": 2,
   "metadata": {},
   "outputs": [
    {
     "data": {
      "text/plain": [
       "'This is the first choice '"
      ]
     },
     "execution_count": 2,
     "metadata": {},
     "output_type": "execute_result"
    }
   ],
   "source": [
    "\"\"\"This is the first choice \"\"\""
   ]
  },
  {
   "cell_type": "code",
   "execution_count": 3,
   "metadata": {},
   "outputs": [
    {
     "name": "stdout",
     "output_type": "stream",
     "text": [
      "In this World of Clematis, there are three jobs, and everyone has to work. The first job is the duty of cleaning. The second job is the job of caregiving. The third job is that of destruction/construction.\n"
     ]
    }
   ],
   "source": [
    "print(\"In this World of Clematis, there are three jobs, and everyone has to work. The first job is the duty of cleaning. The second job is the job of caregiving. The third job is that of destruction/construction.\")"
   ]
  },
  {
   "cell_type": "code",
   "execution_count": 4,
   "metadata": {},
   "outputs": [
    {
     "name": "stdout",
     "output_type": "stream",
     "text": [
      "Everything falls into the 3 jobs.\n"
     ]
    }
   ],
   "source": [
    "print(\"Everything falls into the 3 jobs.\")"
   ]
  },
  {
   "cell_type": "code",
   "execution_count": 5,
   "metadata": {},
   "outputs": [
    {
     "name": "stdout",
     "output_type": "stream",
     "text": [
      "You have started living on the World of Clematis. Its 7am and you will need to work today. What job do you choose?\n"
     ]
    }
   ],
   "source": [
    "print(\"You have started living on the World of Clematis. Its 7am and you will need to work today. What job do you choose?\")"
   ]
  },
  {
   "cell_type": "code",
   "execution_count": 6,
   "metadata": {},
   "outputs": [
    {
     "name": "stdout",
     "output_type": "stream",
     "text": [
      "If you do not choose, your job will be chosen for you.  No one lives on the World of Clematis without working. Don't worry; all these jobs require little talent.\n"
     ]
    }
   ],
   "source": [
    "print(\"If you do not choose, your job will be chosen for you.  No one lives on the World of Clematis without working. Don't worry; all these jobs require little talent.\")"
   ]
  },
  {
   "cell_type": "code",
   "execution_count": 7,
   "metadata": {},
   "outputs": [
    {
     "name": "stdout",
     "output_type": "stream",
     "text": [
      "What is your choice? Cleaning, input 1, Caregiving, input 2, Destruction/Construction, input 33\n"
     ]
    }
   ],
   "source": [
    "job = input(\"What is your choice? Cleaning, input 1, Caregiving, input 2, Destruction/Construction, input 3\")"
   ]
  },
  {
   "cell_type": "code",
   "execution_count": 8,
   "metadata": {},
   "outputs": [
    {
     "name": "stdout",
     "output_type": "stream",
     "text": [
      "Your choice was:  3\n"
     ]
    }
   ],
   "source": [
    "print(\"Your choice was: \", job)"
   ]
  },
  {
   "cell_type": "code",
   "execution_count": 9,
   "metadata": {},
   "outputs": [
    {
     "name": "stdout",
     "output_type": "stream",
     "text": [
      "You have chosen Destruction/Construction as your profession on the World of Clematis\n"
     ]
    }
   ],
   "source": [
    "if job == \"1\":\n",
    "   print(\"You have chosen Cleaning as your profession on the World of Clematis\")\n",
    "elif job == \"2\":\n",
    "   print(\"You have chosen Caregiving as your profession on the World of Clematis\")\n",
    "elif job == \"3\":\n",
    "   print(\"You have chosen Destruction/Construction as your profession on the World of Clematis\")\n",
    "else:\n",
    "   print(\"Your job will be chosen for you at random.\")"
   ]
  },
  {
   "cell_type": "code",
   "execution_count": 10,
   "metadata": {},
   "outputs": [
    {
     "data": {
      "text/plain": [
       "'Choice of Breakfast, Lunch, and Dinner'"
      ]
     },
     "execution_count": 10,
     "metadata": {},
     "output_type": "execute_result"
    }
   ],
   "source": [
    "\"\"\"Choice of Breakfast, Lunch, and Dinner\"\"\""
   ]
  },
  {
   "cell_type": "code",
   "execution_count": 11,
   "metadata": {},
   "outputs": [
    {
     "name": "stdout",
     "output_type": "stream",
     "text": [
      "In the World of Clematis, your breakfast, lunch, and dinner will be provided by those in the Caregiving Profession. The food is all vegan. No other type of food is allowed even if you are able to obtain carnivorous food on your own. Let me explain the food choices.\n"
     ]
    }
   ],
   "source": [
    "print(\"In the World of Clematis, your breakfast, lunch, and dinner will be provided by those in the Caregiving Profession. The food is all vegan. No other type of food is allowed even if you are able to obtain carnivorous food on your own. Let me explain the food choices.\")"
   ]
  },
  {
   "cell_type": "code",
   "execution_count": 12,
   "metadata": {},
   "outputs": [
    {
     "name": "stdout",
     "output_type": "stream",
     "text": [
      "Today's caregiver is Leoril and they have prepared 4 choices for breakfast, 2 choices for lunch, and 3 choices for dinner.  You must look at the menu and choose what you will eat now so Leoril will be able to prepare today's meals\n"
     ]
    }
   ],
   "source": [
    "print(\"Today's caregiver is Leoril and they have prepared 4 choices for breakfast, 2 choices for lunch, and 3 choices for dinner.  You must look at the menu and choose what you will eat now so Leoril will be able to prepare today's meals\")"
   ]
  },
  {
   "cell_type": "code",
   "execution_count": 13,
   "metadata": {},
   "outputs": [
    {
     "name": "stdout",
     "output_type": "stream",
     "text": [
      "Menu for breakfast: Oatmeal, input 1, Orange and Apple Compote, input 2, Chia Smoothie, input 3, 2 Hash Browns with Tomato Sauce, input 4\n"
     ]
    }
   ],
   "source": [
    "print(\"Menu for breakfast: Oatmeal, input 1, Orange and Apple Compote, input 2, Chia Smoothie, input 3, 2 Hash Browns with Tomato Sauce, input 4\")\n"
   ]
  },
  {
   "cell_type": "code",
   "execution_count": 26,
   "metadata": {},
   "outputs": [
    {
     "name": "stdout",
     "output_type": "stream",
     "text": [
      "What will you have for breakfast? 5\n",
      "That's not a choice.\n"
     ]
    }
   ],
   "source": [
    "breakfast = input(\"What will you have for breakfast? \")\n",
    "\n",
    "integer_breakfast = (int(breakfast))\n",
    "\n",
    "if (integer_breakfast > 4 or integer_breakfast < 1): print(\"That's not a choice.\")"
   ]
  },
  {
   "cell_type": "code",
   "execution_count": null,
   "metadata": {},
   "outputs": [],
   "source": [
    "print(\"Menu for lunch: Three Bean Soup, input 1, Grilled Vegan Cheese Sandwich, input 2\")     "
   ]
  },
  {
   "cell_type": "code",
   "execution_count": 33,
   "metadata": {},
   "outputs": [
    {
     "name": "stdout",
     "output_type": "stream",
     "text": [
      "What will you have for lunch? 3\n",
      "That's not a choice.\n"
     ]
    }
   ],
   "source": [
    "lunch = input(\"What will you have for lunch? \")\n",
    "integer_lunch = int(lunch)\n",
    "if (integer_lunch > 2 or integer_lunch < 1): print(\"That's not a choice.\")"
   ]
  },
  {
   "cell_type": "code",
   "execution_count": null,
   "metadata": {},
   "outputs": [],
   "source": [
    "print(\"Menu for dinner: Enchiladas, input 1, Asian Apple Salad, input 2, Minestrone Soup, input 3\")"
   ]
  },
  {
   "cell_type": "code",
   "execution_count": 32,
   "metadata": {},
   "outputs": [
    {
     "name": "stdout",
     "output_type": "stream",
     "text": [
      "What will you have for dinner? 4\n",
      "That's not a choice.\n"
     ]
    }
   ],
   "source": [
    "dinner = input(\"What will you have for dinner? \")\n",
    "integer_dinner = int(dinner)\n",
    "if (integer_dinner > 3 or integer_dinner < 1): print(\"That's not a choice.\")"
   ]
  },
  {
   "cell_type": "code",
   "execution_count": null,
   "metadata": {},
   "outputs": [],
   "source": [
    "\"\"\"Information about the jobs comes after you choose\"\"\"\n",
    "print(\"Would you like to know about your new job?\")"
   ]
  },
  {
   "cell_type": "code",
   "execution_count": null,
   "metadata": {},
   "outputs": [],
   "source": [
    "\"\"\"Cleaning Track\"\"\""
   ]
  },
  {
   "cell_type": "code",
   "execution_count": null,
   "metadata": {},
   "outputs": [],
   "source": [
    "\"\"\"Caregiving Track\"\"\""
   ]
  },
  {
   "cell_type": "code",
   "execution_count": null,
   "metadata": {},
   "outputs": [],
   "source": [
    "\"\"\"Construction/Destruction Track\"\"\""
   ]
  },
  {
   "cell_type": "code",
   "execution_count": null,
   "metadata": {},
   "outputs": [],
   "source": []
  }
 ],
 "metadata": {
  "kernelspec": {
   "display_name": "Python 3",
   "language": "python",
   "name": "python3"
  },
  "language_info": {
   "codemirror_mode": {
    "name": "ipython",
    "version": 3
   },
   "file_extension": ".py",
   "mimetype": "text/x-python",
   "name": "python",
   "nbconvert_exporter": "python",
   "pygments_lexer": "ipython3",
   "version": "3.8.5"
  }
 },
 "nbformat": 4,
 "nbformat_minor": 4
}
