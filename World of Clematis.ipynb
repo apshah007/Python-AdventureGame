{
 "cells": [
  {
   "cell_type": "code",
   "execution_count": 1,
   "metadata": {},
   "outputs": [
    {
     "name": "stdout",
     "output_type": "stream",
     "text": [
      "Welcome to the World of Clematis\n"
     ]
    }
   ],
   "source": [
    "print(\"Welcome to the World of Clematis\")"
   ]
  },
  {
   "cell_type": "code",
   "execution_count": 2,
   "metadata": {},
   "outputs": [
    {
     "name": "stdout",
     "output_type": "stream",
     "text": [
      "In this World of Clematis, there are three jobs, and everyone has to work. The first job is the duty of cleaning. The second job is the job of caregiving. The third job is that of destruction/construction.\n"
     ]
    }
   ],
   "source": [
    "print(\"In this World of Clematis, there are three jobs, and everyone has to work. The first job is the duty of cleaning. The second job is the job of caregiving. The third job is that of destruction/construction.\")"
   ]
  },
  {
   "cell_type": "code",
   "execution_count": 3,
   "metadata": {},
   "outputs": [
    {
     "name": "stdout",
     "output_type": "stream",
     "text": [
      "Everything falls into the 3 jobs.\n"
     ]
    }
   ],
   "source": [
    "print(\"Everything falls into the 3 jobs.\")"
   ]
  },
  {
   "cell_type": "code",
   "execution_count": 4,
   "metadata": {},
   "outputs": [
    {
     "name": "stdout",
     "output_type": "stream",
     "text": [
      "You have started living on the World of Clematis. What job do you choose?\n"
     ]
    }
   ],
   "source": [
    "print(\"You have started living on the World of Clematis. What job do you choose?\")"
   ]
  },
  {
   "cell_type": "code",
   "execution_count": 5,
   "metadata": {},
   "outputs": [
    {
     "name": "stdout",
     "output_type": "stream",
     "text": [
      "If you do not choose, your job will be chosen for you.  No one lives on the World of Clematis without working. Don't worry; all these jobs require little talent.\n"
     ]
    }
   ],
   "source": [
    "print(\"If you do not choose, your job will be chosen for you.  No one lives on the World of Clematis without working. Don't worry; all these jobs require little talent.\")"
   ]
  },
  {
   "cell_type": "code",
   "execution_count": 7,
   "metadata": {},
   "outputs": [
    {
     "name": "stdout",
     "output_type": "stream",
     "text": [
      "What is your choice? Cleaning, input 1, Caregiving, input 2, Destruction/Construction, input 33\n"
     ]
    }
   ],
   "source": [
    "job = input(\"What is your choice? Cleaning, input 1, Caregiving, input 2, Destruction/Construction, input 3\")"
   ]
  },
  {
   "cell_type": "code",
   "execution_count": 8,
   "metadata": {},
   "outputs": [
    {
     "name": "stdout",
     "output_type": "stream",
     "text": [
      "Your choice was:  3\n"
     ]
    }
   ],
   "source": [
    "print(\"Your choice was: \", job)"
   ]
  },
  {
   "cell_type": "code",
   "execution_count": 12,
   "metadata": {},
   "outputs": [
    {
     "name": "stdout",
     "output_type": "stream",
     "text": [
      "You have chosen Destruction/Construction as your profession on the World of Clematis\n"
     ]
    }
   ],
   "source": [
    "if job == \"1\":\n",
    "   print(\"You have chosen Cleaning as your profession on the World of Clematis\")\n",
    "elif job == \"2\":\n",
    "   print(\"You have chosen Caregiving as your profession on the World of Clematis\")\n",
    "elif job == \"3\":\n",
    "   print(\"You have chosen Destruction/Construction as your profession on the World of Clematis\")\n",
    "else:\n",
    "   print(\"Your job will be chosen for you at random.\")"
   ]
  },
  {
   "cell_type": "code",
   "execution_count": null,
   "metadata": {},
   "outputs": [],
   "source": []
  },
  {
   "cell_type": "code",
   "execution_count": null,
   "metadata": {},
   "outputs": [],
   "source": []
  },
  {
   "cell_type": "code",
   "execution_count": null,
   "metadata": {},
   "outputs": [],
   "source": []
  }
 ],
 "metadata": {
  "kernelspec": {
   "display_name": "Python 3",
   "language": "python",
   "name": "python3"
  },
  "language_info": {
   "codemirror_mode": {
    "name": "ipython",
    "version": 3
   },
   "file_extension": ".py",
   "mimetype": "text/x-python",
   "name": "python",
   "nbconvert_exporter": "python",
   "pygments_lexer": "ipython3",
   "version": "3.8.5"
  }
 },
 "nbformat": 4,
 "nbformat_minor": 4
}
